{
 "cells": [
  {
   "cell_type": "code",
   "execution_count": 2,
   "metadata": {},
   "outputs": [],
   "source": [
    "import torch\n",
    "from torch import autograd"
   ]
  },
  {
   "cell_type": "code",
   "execution_count": 3,
   "metadata": {},
   "outputs": [],
   "source": [
    "def sample_model(x):\n",
    "    w = torch.tensor([[1., 3.], [0., -1.]])\n",
    "    b = torch.tensor([[0.], [2.]])\n",
    "    return w.mm(x) + b"
   ]
  },
  {
   "cell_type": "code",
   "execution_count": 4,
   "metadata": {},
   "outputs": [
    {
     "output_type": "execute_result",
     "data": {
      "text/plain": "tensor([[4.],\n        [1.]])"
     },
     "metadata": {},
     "execution_count": 4
    }
   ],
   "source": [
    "sample_model(torch.tensor([[1.], [1.]]))"
   ]
  },
  {
   "cell_type": "code",
   "execution_count": 5,
   "metadata": {},
   "outputs": [],
   "source": [
    "def compute_jacobian(outputs: torch.Tensor, inputs: torch.Tensor):\n",
    "    k, _ = outputs.size()\n",
    "    n, _ = inputs.size()\n",
    "    \n",
    "    res = torch.zeros(k, n)\n",
    "\n",
    "    for i in range(0, n):\n",
    "        grad_outputs = torch.zeros(n,1)\n",
    "        grad_outputs[i] = 1.\n",
    "        grad = autograd.grad(outputs, inputs, grad_outputs=grad_outputs, retain_graph=True)[0]\n",
    "        res[:,i:i+1] = grad\n",
    "\n",
    "    return res.t() # transpose because autograd.grad calculates J.t() * v"
   ]
  },
  {
   "cell_type": "code",
   "execution_count": 6,
   "metadata": {},
   "outputs": [
    {
     "output_type": "execute_result",
     "data": {
      "text/plain": "tensor([[ 1.,  3.],\n        [ 0., -1.]])"
     },
     "metadata": {},
     "execution_count": 6
    }
   ],
   "source": [
    "x = torch.tensor([[1.], [1.]], requires_grad=True)\n",
    "y = sample_model(x)\n",
    "\n",
    "compute_jacobian(y, x)"
   ]
  },
  {
   "cell_type": "code",
   "execution_count": 7,
   "metadata": {},
   "outputs": [],
   "source": [
    "def compute_jacobian_row_vector(outputs: torch.Tensor, inputs: torch.Tensor):\n",
    "    k = outputs.size()[0]\n",
    "    n = inputs.size()[0]\n",
    "    \n",
    "    res = torch.zeros(k, n)\n",
    "\n",
    "    for i in range(0, n):\n",
    "        grad_outputs = torch.zeros(n)\n",
    "        grad_outputs[i] = 1.\n",
    "        grad = torch.autograd.grad(outputs, inputs, grad_outputs=grad_outputs, retain_graph=True)[0]\n",
    "        res[:,i:i+1] = grad.reshape(2,1)\n",
    "\n",
    "    return res.t() # transpose because autograd.grad calculates J.t() * v"
   ]
  },
  {
   "cell_type": "code",
   "execution_count": 18,
   "metadata": {},
   "outputs": [
    {
     "output_type": "execute_result",
     "data": {
      "text/plain": "tensor([[ 1.,  3.],\n        [ 0., -1.]])"
     },
     "metadata": {},
     "execution_count": 18
    }
   ],
   "source": [
    "x = torch.tensor([1., 1.], requires_grad=True)\n",
    "y = sample_model(x.reshape(2, 1)).reshape([2])\n",
    "\n",
    "compute_jacobian_row_vector(y, x)"
   ]
  },
  {
   "cell_type": "code",
   "execution_count": null,
   "metadata": {},
   "outputs": [],
   "source": []
  }
 ],
 "metadata": {
  "language_info": {
   "codemirror_mode": {
    "name": "ipython",
    "version": 3
   },
   "file_extension": ".py",
   "mimetype": "text/x-python",
   "name": "python",
   "nbconvert_exporter": "python",
   "pygments_lexer": "ipython3",
   "version": "3.7.5-final"
  },
  "orig_nbformat": 2,
  "kernelspec": {
   "name": "python37564bitvenvvenvf5fdfca541e140bca704e1da32717e90",
   "display_name": "Python 3.7.5 64-bit ('.venv': venv)"
  }
 },
 "nbformat": 4,
 "nbformat_minor": 2
}